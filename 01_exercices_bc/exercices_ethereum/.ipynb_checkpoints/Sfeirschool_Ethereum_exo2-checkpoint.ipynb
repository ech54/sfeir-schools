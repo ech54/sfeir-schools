{
 "cells": [
  {
   "cell_type": "markdown",
   "metadata": {},
   "source": [
    "<img src=\"logo.svg\" style=\"padding-top:30px\">\n",
    "\n",
    "<h1> SfeirSchool Blockchain - ETHEREUM - </h1>\n",
    "<h3> <b>Exercice 2</b> : <i>Metamask browser plugin</i></h3>\n",
    "<p style=\"padding-top: 20px\">\n",
    "<code>Objective</code> : Configure metamask to manage accounts of ethereum network.\n",
    "</p>\n",
    "\n",
    "(requirement: chrome. )\n",
    "<lu>\n",
    "    <li><b style=\"color:blue\">(1)</b> Open browser</li>\n",
    "    <li><b style=\"color:blue\">(2)</b> Go to 'https://metamask.io/' url <img src=\"metamask-site.png\" style=\"padding-top:10px;padding-bottom:20px\"></li>\n",
    "    <li><b style=\"color:blue\">(3)</b> Click on 'Get Chrome extension' </li>\n",
    "    <li><b style=\"color:blue\">(4)</b> Install extension</li>\n",
    "    <li><b style=\"color:blue\">(5)</b> Create a wallet and configure seed phrase. <img src=\"wallet-config.png\" style=\"padding-top:10px;padding-bottom:20px\"></li>\n",
    "    <li><b style=\"color:blue\">(6)</b> Change network to localhost:8545. <img src=\"select-locahost.png\" style=\"padding-top:10px;padding-bottom:20px\"></li>    \n",
    "    <li><b style=\"color:blue\">(7)</b> Execute command on terminal: 'docker logs ethereum-local-network | less'. You can see all private keys from network.</li>    \n",
    "    <li><b style=\"color:blue\">(8)</b> Add account. <img src=\"import-account.png\" style=\"padding-top:10px;padding-bottom:20px\">\n",
    "        Add a private key:\n",
    "    <img src=\"add-private-key.png\" style=\"padding-top:10px;padding-bottom:20px\"></li>    \n",
    "    \n",
    "</lu>\n",
    "\n",
    "\n",
    "\n",
    "https://metamask.io/"
   ]
  }
 ],
 "metadata": {
  "kernelspec": {
   "display_name": "Go",
   "language": "go",
   "name": "gophernotes"
  },
  "language_info": {
   "codemirror_mode": "",
   "file_extension": ".go",
   "mimetype": "",
   "name": "go",
   "nbconvert_exporter": "",
   "pygments_lexer": "",
   "version": "go1.11.4"
  }
 },
 "nbformat": 4,
 "nbformat_minor": 2
}
