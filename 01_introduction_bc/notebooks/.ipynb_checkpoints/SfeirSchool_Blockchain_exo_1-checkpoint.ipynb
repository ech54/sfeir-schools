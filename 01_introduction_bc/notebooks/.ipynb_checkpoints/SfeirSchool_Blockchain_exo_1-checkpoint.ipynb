{
 "cells": [
  {
   "cell_type": "markdown",
   "metadata": {},
   "source": [
    "<img src=\"logo.svg\" style=\"padding-top:30px\">\n",
    "\n",
    "<h1> SfeirSchool Blockchain </h1>\n",
    "<h3> <b>Exercice 1</b> : <i>Create Blockchain structure</i></h3>\n",
    "<p style=\"padding-top: 20px\">\n",
    "<code>Objective</code> : The first exercice will show how to create a simple Blockchain structure to register three transactions.\n",
    "</p>\n",
    "<div class=\"alert alert-block alert-info\">\n",
    "<h4> <b>Step 1</b></h4>\n",
    "<p style=\"padding-top: 20px\">\n",
    "<code>Objective</code> :  Declare all dependencies used by all golang statements.\n",
    "\n",
    "<code>Notes</code> :  \n",
    "<lu>\n",
    "    <li><b style=\"color:green\">fmt</b>: library to display messages</li>\n",
    "    <li><b style=\"color:green\">time</b>: library to format time and date object</li> \n",
    "</lu>\n",
    "</p>\n",
    "</div>\n",
    "<p style=\"color:yellow\"> No task to perform here. (read help for more details)</p>"
   ]
  },
  {
   "cell_type": "code",
   "execution_count": 80,
   "metadata": {},
   "outputs": [],
   "source": [
    "import (\n",
    "    \"fmt\"\n",
    "    \"time\"\n",
    ")"
   ]
  },
  {
   "cell_type": "markdown",
   "metadata": {},
   "source": [
    "<div class=\"alert alert-block alert-info\">\n",
    "<h4> <b>Step 2</b></h4>\n",
    "<p style=\"padding-top: 20px\">\n",
    "<code>Objective</code> : Create structure required by transaction properties.\n",
    "\n",
    "Structure's name will be <b style=\"color:black\">Data</b>, and it will be composed  by the following properties :\n",
    "\n",
    "- <b style=\"color:black\">Reference</b> : The produce / only one per transaction \n",
    "- <b style=\"color:black\">Quantity</b> : The reference's quantity\n",
    "- <b style=\"color:black\">Price</b> : The unit price\n",
    "</p>\n",
    "</div>\n",
    "\n",
    "<p style=\"color:yellow\"> Add properties in structure below :</p>"
   ]
  },
  {
   "cell_type": "code",
   "execution_count": 81,
   "metadata": {},
   "outputs": [],
   "source": [
    "type Data struct {\n",
    "    //\n",
    "    //\n",
    "    // TODO add statements here !!!\n",
    "    //\n",
    "    //\n",
    "}"
   ]
  },
  {
   "cell_type": "markdown",
   "metadata": {},
   "source": [
    "<div class=\"alert alert-block\">\n",
    "  <h4>Help me !</h4>\n",
    "  <details>\n",
    "      <summary></summary>\n",
    "      <ul>\n",
    "          <li>What's <b style=\"color:black\"><a href=\"https://golang.org/pkg/go/types/#Signature\">Type</b> ? </li>\n",
    "          <li>What's <b style=\"color:black\"><a href=\"https://golang.org/pkg/go/types/#Struct\">Struct</a></b> ? </li>\n",
    "          <li>Type for <b style=\"color:black\">Reference</b> is a <a href=\"https://golang.org/pkg/go/types/#Signature\">string</a></li>\n",
    "          <li>Type for <b style=\"color:black\">Quantity</b href=\"https://golang.org/pkg/go/types/#Signature\"> is an <a>int</a></li>\n",
    "          <li>Type for <b style=\"color:black\">Price</b> is a <a href=\"https://golang.org/pkg/go/types/#Signature\">float32</a></li>\n",
    "      </ul>\n",
    "  </details>\n",
    "</div>\n",
    "\n",
    "<div class=\"alert alert-block\">\n",
    "    <h4>Solution</h4>\n",
    "    <details>\n",
    "      <summary></summary>\n",
    "        <pre><code>\n",
    "             type Data struct {\n",
    "                    Reference string\n",
    "                    Quantity  int\n",
    "                    Price     float32\n",
    "              }\n",
    "         </code></pre>\n",
    "  </details>\n",
    "</div>\n",
    "\n",
    "<div class=\"alert alert-block alert-info\">\n",
    "<h4> <b>Step 3</b></h4>\n",
    "<p style=\"padding-top: 20px\">\n",
    "<code>Objective</code> : Define a <b style=\"color:black\">Block</b> structure. A <b style=\"color:black\">Block</b> (or Node) contains <b style=\"color:black\">Data</b> (or Transaction) and is elementary part of Block chain.\n",
    "\n",
    "<img src=\"00_6_ledger_structure.png\" width=\"70%\" style=\"padding-top:5px;padding-bottom:5px;\">\n",
    "\n",
    "\n",
    "The structure's name will be <b style=\"color:black\">Block</b>, and it will be composed by <b style=\"color:black\">Data</b>, and some metadata. That metadata manages technical structure, which are :\n",
    "\n",
    "- <b style=\"color:black\">ID</b> : Current Block identifier (N)\n",
    "- <b style=\"color:black\">LastID</b> : Previous Block identifier (N-1)\n",
    "- <b style=\"color:black\">CreatedAt</b> : When Block has been created (Timestamp with string format)\n",
    "</p>\n",
    "</div>\n",
    "<p style=\"color:yellow\"> Add properties in structure below :</p>"
   ]
  },
  {
   "cell_type": "code",
   "execution_count": 82,
   "metadata": {},
   "outputs": [],
   "source": [
    "type Block struct {\n",
    "    // \n",
    "    // TODO: add metadata properties\n",
    "    // -> ID, LastID, Timestamp\n",
    "    //\n",
    "    Data Data\n",
    "}"
   ]
  },
  {
   "cell_type": "markdown",
   "metadata": {},
   "source": [
    "<div class=\"alert alert-block\">\n",
    "  <h4>Help me !</h4>\n",
    "  <details>\n",
    "      <summary></summary>\n",
    "      <ul>\n",
    "          <li>What's <b style=\"color:black\"><a href=\"https://golang.org/pkg/go/types/#Signature\">Type</b> ? </li>\n",
    "          <li>What's <b style=\"color:black\"><a href=\"https://golang.org/pkg/go/types/#Struct\">Struct</a></b> ? </li>\n",
    "          <li>Type for <b style=\"color:black\">ID</b> is an <a href=\"https://golang.org/pkg/go/types/#Signature\">int</a>. The strategy to generate id will be by increment</li>\n",
    "          <li>Type for <b style=\"color:black\">LastID</b href=\"https://golang.org/pkg/go/types/#Signature\"> is an <a>int</a></li>\n",
    "          <li>Type for <b style=\"color:black\">CreatedAt</b> is a <a href=\"https://golang.org/pkg/go/types/#Signature\">string</a></li>\n",
    "      </ul>\n",
    "  </details>\n",
    "</div>\n",
    "\n",
    "<div class=\"alert alert-block\">\n",
    "    <h4>Solution</h4>\n",
    "    <details>\n",
    "      <summary></summary>\n",
    "        <pre><code>\n",
    "             type Block struct {\n",
    "                ID        int\n",
    "                LastID    int\n",
    "                CreatedAt string\n",
    "                Data      Data\n",
    "              }\n",
    "         </code></pre>\n",
    "  </details>\n",
    "</div>\n",
    "\n",
    "<div class=\"alert alert-block alert-info\">\n",
    "<h4> <b>Step 4</b></h4>\n",
    "<p style=\"padding-top: 20px\">\n",
    "<code>Objective</code> : Complete BlockChain with <b style=\"color:black\">Chain</b> structure. That part wrappes all together the<b style=\"color:black\">Block</b> structures.\n",
    "\n",
    "The structure's name will be <b style=\"color:black\">Chain</b>, and it will be composed by a <b style=\"color:black\">Block</b> map (id/Block), and some metadata. That metadata are :\n",
    "\n",
    "- <b style=\"color:black\">LastKey</b> : Last block identifier which has been added to chain\n",
    "- <b style=\"color:black\">Blocks</b> : All blocks contains in chain\n",
    "</p>\n",
    "</div>\n",
    "<p style=\"color:yellow\"> Add properties in structure below :</p>"
   ]
  },
  {
   "cell_type": "code",
   "execution_count": 83,
   "metadata": {},
   "outputs": [],
   "source": [
    "type Chain struct {\n",
    "    //\n",
    "    // TODO - add properties\n",
    "    //\n",
    "    //\n",
    "}"
   ]
  },
  {
   "cell_type": "markdown",
   "metadata": {},
   "source": [
    "\n",
    "<div class=\"alert alert-block\">\n",
    "  <h4>Help me !</h4>\n",
    "  <details>\n",
    "      <summary></summary>\n",
    "      <ul>\n",
    "          <li>What's <b style=\"color:black\"><a href=\"https://golang.org/pkg/go/types/#Signature\">Type</a></b> ? </li>\n",
    "          <li>What's <b style=\"color:black\"><a href=\"https://golang.org/pkg/go/types/#Struct\">Struct</a></b> ? </li>\n",
    "          <li>Type for <b style=\"color:black\">LastKey</b> is an <a href=\"https://golang.org/pkg/go/types/#Signature\">int</a>. The strategy to generate id will be by increment</li>\n",
    "          <li>Type for <b style=\"color:black\">Blocks</b href=\"https://golang.org/pkg/go/types/#Signature\"> is an <a>int</a></li>\n",
    "      </ul>\n",
    "  </details>\n",
    "</div>\n",
    "\n",
    "<div class=\"alert alert-block\">\n",
    "    <h4>Solution</h4>\n",
    "    <details>\n",
    "      <summary></summary>\n",
    "        <pre><code>\n",
    "            type Chain struct {\n",
    "                LastKey int\n",
    "                Blocks  map[int]Block\n",
    "            }\n",
    "         </code></pre>\n",
    "  </details>\n",
    "</div>\n",
    "\n",
    "<div class=\"alert alert-block alert-info\">\n",
    "<h4> <b>Step 5</b></h4>\n",
    "<p style=\"padding-top: 20px\">\n",
    "<code>Objective</code> : Enrich BlockChain by additional behavior. That will add 2 functions on <b style=\"color:black\">Chain</b> structure. \n",
    "\n",
    "- <b style=\"color:black\">genesis()</b> : A block chain follows a lifecycle, and its first step is <b style=\"color:black\">genesis</b> or first instanciate.\n",
    "- <b style=\"color:black\">addBlock(...)</b> : add block will handle integration of new block in the chain.\n",
    "</p>\n",
    "</div>\n",
    "\n",
    "<p style=\"color:yellow\"> Implement genesis and addBlock functions :</p>"
   ]
  },
  {
   "cell_type": "code",
   "execution_count": 84,
   "metadata": {},
   "outputs": [
    {
     "ename": "ERROR",
     "evalue": "cannot convert typed constant <nil> <<nil>> to <main.Block>",
     "output_type": "error",
     "traceback": [
      "cannot convert typed constant <nil> <<nil>> to <main.Block>"
     ]
    }
   ],
   "source": [
    "\n",
    "func (chain *Chain) last() Block {\n",
    "    // TODO: \n",
    "    // - use the map to retrieve the last block (LastKey + map)\n",
    "    return nil\n",
    "}\n",
    "func (chain *Chain) addBlock(b Block) {\n",
    "    // TODO: \n",
    "    // 1- compute id of new Block (use current id of Chain (LastKey+1))\n",
    "    // 2- switch the LastID value with new one.\n",
    "    // 3- add block to map\n",
    "}\n"
   ]
  },
  {
   "cell_type": "markdown",
   "metadata": {},
   "source": [
    "<div class=\"alert alert-block\">\n",
    "    <h4>Solution</h4>\n",
    "    <details>\n",
    "      <summary></summary>\n",
    "        <pre><code>\n",
    "        func (chain *Chain) last() Block {\n",
    "            return chain.Blocks[chain.LastKey]\n",
    "        }\n",
    "        func (chain *Chain) addBlock(b Block) {\n",
    "            lastID := chain.last().ID\n",
    "            b.ID = lastID + 1\n",
    "            b.LastID = lastID\n",
    "            chain.LastKey = b.ID\n",
    "            chain.Blocks[b.ID] = b\n",
    "        }\n",
    "         </code></pre>\n",
    "  </details>\n",
    "</div>\n",
    "\n",
    "\n",
    "<div class=\"alert alert-block alert-info\">\n",
    "<h4> <b>Step 6</b></h4>\n",
    "<p style=\"padding-top: 20px\">\n",
    "<code>Objective</code> : Util methods to create Chain or Block.\n",
    "\n",
    "- <b style=\"color:black\">genesis()</b> : A block chain follows a lifecycle, and its first step is <b style=\"color:black\">genesis</b> or first instanciate.\n",
    "- <b style=\"color:black\">generateBlock(...)</b> : Build a block with provided data in parameters.\n",
    "</p>\n",
    "</div>\n",
    "\n",
    "<p style=\"color:yellow\"> Implement genesis and generate block functions :</p>"
   ]
  },
  {
   "cell_type": "code",
   "execution_count": 85,
   "metadata": {},
   "outputs": [
    {
     "ename": "ERROR",
     "evalue": "repl.go:8:12: unknown field 'LastID' in struct literal of type main.Block",
     "output_type": "error",
     "traceback": [
      "repl.go:8:12: unknown field 'LastID' in struct literal of type main.Block"
     ]
    }
   ],
   "source": [
    "func genesis() Chain {\n",
    "    // TODO\n",
    "    // - adapt the return to provide a Chain initialized for the first time.\n",
    "    return Chain{}\n",
    "}\n",
    "\n",
    "func generateBlock(reference string, quantity int, price float32) Block {\n",
    "    return Block{\n",
    "        // Default technical properties\n",
    "        LastID: -1, CreatedAt: time.Now().Format(time.RFC3339),\n",
    "        // TODO\n",
    "        // - init data structure with provided parameters. \n",
    "        //    (ex. PropertyName: <value>, PropertyName: <value>)\n",
    "        Data: Data{},\n",
    "    }\n",
    "}"
   ]
  },
  {
   "cell_type": "markdown",
   "metadata": {},
   "source": [
    "<div class=\"alert alert-block\">\n",
    "    <h4>Solution</h4>\n",
    "    <details>\n",
    "      <summary></summary>\n",
    "        <pre><code>\n",
    "            func genesis() Chain {\n",
    "                return Chain{\n",
    "                    LastKey: 0,\n",
    "                    Blocks:  make(map[int]Block),\n",
    "                }\n",
    "            }\n",
    "            func generateBlock(reference string, \n",
    "                                quantity int, price float32) Block {\n",
    "                return Block{\n",
    "                    LastID: -1, \n",
    "                    CreatedAt: time.Now().Format(time.RFC3339),\n",
    "                    Data: Data{\n",
    "                        Reference: reference, \n",
    "                        Quantity: quantity, \n",
    "                        Price: price\n",
    "                       },\n",
    "                }\n",
    "            }\n",
    "         </code></pre>\n",
    "  </details>\n",
    "</div>\n",
    "\n",
    "\n",
    "<div class=\"alert alert-block alert-info\">\n",
    "<h4> <b>The End ...</b></h4>\n",
    "<p style=\"padding-top: 20px\">\n",
    "<code>Objective</code> : Generate a block chain with 3 transactions.\n",
    "</p>\n",
    "</div>\n",
    "\n",
    "<p style=\"color:yellow\"> Execute block of code bellow :</p>\n"
   ]
  },
  {
   "cell_type": "code",
   "execution_count": 87,
   "metadata": {},
   "outputs": [
    {
     "ename": "ERROR",
     "evalue": "repl.go:7:21: undefined identifier: generateBlock",
     "output_type": "error",
     "traceback": [
      "repl.go:7:21: undefined identifier: generateBlock"
     ]
    }
   ],
   "source": [
    "fmt.Println(\"Simple Block Chain Creation\")\n",
    "\n",
    "// Generate for the first time the blockchain\n",
    "var blockChain = genesis()\n",
    "\n",
    "// Add three transactions:\n",
    "blockChain.addBlock(generateBlock(\"croissants\", 5, 1.2))\n",
    "blockChain.addBlock(generateBlock(\"pains\", 2, 2.3))\n",
    "blockChain.addBlock(generateBlock(\"croissants\", 4, 1.77))\n",
    "\n",
    "// Display blockchain\n",
    "for _, v := range blockChain.Blocks {\n",
    "    fmt.Println(\"Block: \", v)\n",
    "}"
   ]
  }
 ],
 "metadata": {
  "kernelspec": {
   "display_name": "Go",
   "language": "go",
   "name": "gophernotes"
  },
  "language_info": {
   "codemirror_mode": "",
   "file_extension": ".go",
   "mimetype": "",
   "name": "go",
   "nbconvert_exporter": "",
   "pygments_lexer": "",
   "version": "go1.11.4"
  },
  "widgets": {
   "application/vnd.jupyter.widget-state+json": {
    "state": {},
    "version_major": 2,
    "version_minor": 0
   }
  }
 },
 "nbformat": 4,
 "nbformat_minor": 2
}
