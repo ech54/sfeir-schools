{
 "cells": [
  {
   "cell_type": "markdown",
   "metadata": {},
   "source": [
    "<img src=\"logo.svg\" style=\"padding-top:30px\">\n",
    "\n",
    "<h1> SfeirSchool Blockchain </h1>\n",
    "<h3> <b>Exercice 2</b> : <i>Review Block Identifier Generation</i></h3>\n",
    "<p style=\"padding-top: 20px\">\n",
    "<code>Objective</code> : That part is focused to improve the Block identifier generation. Last version was based on increment strategy. The main objective is that Block was unforgeable. \n",
    "</p>\n",
    "<div class=\"alert alert-block alert-info\">\n",
    "<h4> <b>Step 1</b></h4>\n",
    "<p style=\"padding-top: 20px\">\n",
    "<code>Objective</code> :  Declare all dependencies used by all golang statements.\n",
    "\n",
    "<p style=\"color:yellow\"> No task to perform here. (read help for more details)</p>\n",
    "<div>"
   ]
  },
  {
   "cell_type": "code",
   "execution_count": null,
   "metadata": {},
   "outputs": [],
   "source": [
    "import (\n",
    "    \"crypto/sha256\"\n",
    "    \"encoding/hex\"\n",
    "    \"encoding/json\"\n",
    "    \"time\"\n",
    "    \"fmt\"\n",
    ")\n",
    "\n",
    "func hash(obj []byte) string {\n",
    "    return hex.EncodeToString(hashBytes(obj))\n",
    "}\n"
   ]
  }
 ],
 "metadata": {
  "kernelspec": {
   "display_name": "Go",
   "language": "go",
   "name": "gophernotes"
  },
  "language_info": {
   "codemirror_mode": "",
   "file_extension": ".go",
   "mimetype": "",
   "name": "go",
   "nbconvert_exporter": "",
   "pygments_lexer": "",
   "version": "go1.11.4"
  }
 },
 "nbformat": 4,
 "nbformat_minor": 2
}
