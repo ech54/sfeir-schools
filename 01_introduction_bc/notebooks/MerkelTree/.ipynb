{
 "cells": [
  {
   "cell_type": "code",
   "execution_count": 2,
   "metadata": {},
   "outputs": [],
   "source": [
    "import (\n",
    "\t\"crypto/sha256\"\n",
    "\t\"encoding/hex\"\n",
    "\t\"encoding/json\"\n",
    "\t\"fmt\"\n",
    ")\n",
    "\n",
    "func prettyPrint(structure interface{}) {\n",
    "\tj, _ := json.MarshalIndent(structure, \"\", \"  \")\n",
    "\tfmt.Print(\"\\n Block: \", string(j))\n",
    "}\n",
    "\n",
    "func toString(structure interface{}) string {\n",
    "\tbytesStructure, err := json.Marshal(structure)\n",
    "\tif err != nil {\n",
    "\t\tpanic(err)\n",
    "\t}\n",
    "\treturn string(bytesStructure)\n",
    "}\n",
    "\n",
    "func hashStruct(structure interface{}) string {\n",
    "\treturn hash([]byte(toString(structure)))\n",
    "}\n",
    "\n",
    "func HashStructBytes(structure interface{}) ([]byte, error) {\n",
    "\treturn hashBytes([]byte(toString(structure))), nil\n",
    "\t//return []byte{0}\n",
    "}\n",
    "\n",
    "func hash(obj []byte) string {\n",
    "\treturn encodeHex(hashBytes(obj))\n",
    "}\n",
    "\n",
    "func encodeHex(obj []byte) string {\n",
    "\treturn hex.EncodeToString(obj)\n",
    "}\n",
    "\n",
    "func hashBytes(obj []byte) []byte {\n",
    "\th := sha256.New()\n",
    "\t_, err := h.Write(obj)\n",
    "\tif err != nil {\n",
    "\t\tpanic(err)\n",
    "\t}\n",
    "\treturn h.Sum(nil)\n",
    "}\n"
   ]
  }
 ],
 "metadata": {
  "kernelspec": {
   "display_name": "Go",
   "language": "go",
   "name": "gophernotes"
  },
  "language_info": {
   "codemirror_mode": "",
   "file_extension": ".go",
   "mimetype": "",
   "name": "go",
   "nbconvert_exporter": "",
   "pygments_lexer": "",
   "version": "go1.11.4"
  }
 },
 "nbformat": 4,
 "nbformat_minor": 2
}
